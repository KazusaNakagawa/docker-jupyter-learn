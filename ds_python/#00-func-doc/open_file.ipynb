{
 "cells": [
  {
   "cell_type": "markdown",
   "id": "e84e2185-3fd4-4947-9432-ba3dc819e3fc",
   "metadata": {},
   "source": [
    "## CSV Log rotation\n",
    "* ファイル書き込み・指定行数以上書き込みがされるなら,一番古いレコードを削除する"
   ]
  },
  {
   "cell_type": "code",
   "execution_count": 1,
   "id": "43873d25-a96f-4857-b8be-be810ed5e065",
   "metadata": {},
   "outputs": [],
   "source": [
    "from datetime import datetime as dt\n",
    "import pandas as pd"
   ]
  },
  {
   "cell_type": "code",
   "execution_count": 2,
   "id": "0f039126-9306-48c5-899b-1930ef6c47df",
   "metadata": {},
   "outputs": [],
   "source": [
    "CSV_FILE_NAME = '../data/access_log.csv'\n",
    "DROP_LINE_NUM = 0\n",
    "DROP_LIMIT_NUM = 3"
   ]
  },
  {
   "cell_type": "code",
   "execution_count": 3,
   "id": "9baa8b38-71af-4f34-a8d4-49e296cf39b9",
   "metadata": {},
   "outputs": [],
   "source": [
    "# 日々の書き込み: サンプルファイルなので、まとめて10日分を生成\n",
    "for _ in range(10):\n",
    "    with open(CSV_FILE_NAME, mode='a') as f:\n",
    "        # header: No,item,datetime\n",
    "        f.writelines(f\"\\nx,{'* '*5},{dt.now()}\")\n",
    "        f.close()"
   ]
  },
  {
   "cell_type": "code",
   "execution_count": 4,
   "id": "08fb1773-3703-471d-ae8f-a304aa50e59a",
   "metadata": {},
   "outputs": [],
   "source": [
    "def file_limit_drop(df, file_name=None, drop_line_num=0, drop_limit_num=20):\n",
    "    \"\"\" 指定行より書き込まれていた時一番古いレコードを削除 \"\"\"\n",
    "    if len(df) > drop_limit_num:\n",
    "        df = df.drop(drop_line_num, axis=0)\n",
    "        df.to_csv(file_name, index=False)\n",
    "    print(len(df))\n",
    "    return df"
   ]
  },
  {
   "cell_type": "code",
   "execution_count": 8,
   "id": "addf62d9-2285-441e-9f79-e925593634c1",
   "metadata": {},
   "outputs": [
    {
     "name": "stdout",
     "output_type": "stream",
     "text": [
      "35\n"
     ]
    },
    {
     "data": {
      "text/html": [
       "<div>\n",
       "<style scoped>\n",
       "    .dataframe tbody tr th:only-of-type {\n",
       "        vertical-align: middle;\n",
       "    }\n",
       "\n",
       "    .dataframe tbody tr th {\n",
       "        vertical-align: top;\n",
       "    }\n",
       "\n",
       "    .dataframe thead th {\n",
       "        text-align: right;\n",
       "    }\n",
       "</style>\n",
       "<table border=\"1\" class=\"dataframe\">\n",
       "  <thead>\n",
       "    <tr style=\"text-align: right;\">\n",
       "      <th></th>\n",
       "      <th>No</th>\n",
       "      <th>item</th>\n",
       "      <th>datetime</th>\n",
       "    </tr>\n",
       "  </thead>\n",
       "  <tbody>\n",
       "    <tr>\n",
       "      <th>1</th>\n",
       "      <td>x</td>\n",
       "      <td>* * * * *</td>\n",
       "      <td>2023-02-23 06:02:39.560668</td>\n",
       "    </tr>\n",
       "    <tr>\n",
       "      <th>2</th>\n",
       "      <td>x</td>\n",
       "      <td>* * * * *</td>\n",
       "      <td>2023-02-23 06:02:39.565162</td>\n",
       "    </tr>\n",
       "    <tr>\n",
       "      <th>3</th>\n",
       "      <td>x</td>\n",
       "      <td>* * * * *</td>\n",
       "      <td>2023-02-23 06:02:39.568324</td>\n",
       "    </tr>\n",
       "  </tbody>\n",
       "</table>\n",
       "</div>"
      ],
      "text/plain": [
       "  No        item                    datetime\n",
       "1  x  * * * * *   2023-02-23 06:02:39.560668\n",
       "2  x  * * * * *   2023-02-23 06:02:39.565162\n",
       "3  x  * * * * *   2023-02-23 06:02:39.568324"
      ]
     },
     "execution_count": 8,
     "metadata": {},
     "output_type": "execute_result"
    }
   ],
   "source": [
    "df = pd.read_csv(CSV_FILE_NAME)\n",
    "df = file_limit_drop(df, CSV_FILE_NAME)\n",
    "df.head(3)"
   ]
  },
  {
   "cell_type": "code",
   "execution_count": null,
   "id": "1e3be5eb-880e-48be-85a2-fc55aa26f77f",
   "metadata": {},
   "outputs": [],
   "source": []
  },
  {
   "cell_type": "code",
   "execution_count": null,
   "id": "888d7b6a-8a73-4ea0-81e6-32a7cd63641b",
   "metadata": {},
   "outputs": [],
   "source": []
  },
  {
   "cell_type": "code",
   "execution_count": null,
   "id": "d02e8aae-ede7-4407-87a2-44f912d71b3a",
   "metadata": {},
   "outputs": [],
   "source": []
  },
  {
   "cell_type": "code",
   "execution_count": null,
   "id": "f45597d5-d78e-46e4-b9c6-a9505ec70b0c",
   "metadata": {},
   "outputs": [],
   "source": []
  }
 ],
 "metadata": {
  "kernelspec": {
   "display_name": "Python 3 (ipykernel)",
   "language": "python",
   "name": "python3"
  },
  "language_info": {
   "codemirror_mode": {
    "name": "ipython",
    "version": 3
   },
   "file_extension": ".py",
   "mimetype": "text/x-python",
   "name": "python",
   "nbconvert_exporter": "python",
   "pygments_lexer": "ipython3",
   "version": "3.9.12"
  }
 },
 "nbformat": 4,
 "nbformat_minor": 5
}
