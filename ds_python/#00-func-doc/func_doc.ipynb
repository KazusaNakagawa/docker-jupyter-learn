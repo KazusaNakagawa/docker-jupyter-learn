{
 "cells": [
  {
   "cell_type": "code",
   "execution_count": 2,
   "metadata": {},
   "outputs": [],
   "source": [
    "import pandas as pd\n",
    "import numpy as np\n",
    "from typing import List"
   ]
  },
  {
   "cell_type": "code",
   "execution_count": 4,
   "metadata": {},
   "outputs": [],
   "source": [
    "# sample date\n",
    "df = pd.DataFrame({ 'A' : [1, 2, 3, 4, 5, 6, 7, 8, 9, 10],\n",
    "                    'B' : ['A-10', 'B-3', np.inf, 'A-1', 'C-2', np.nan,'A-2', 'B-2', 'B-1', 'C-1'],})"
   ]
  },
  {
   "cell_type": "markdown",
   "metadata": {},
   "source": [
    "## サンプルデータ"
   ]
  },
  {
   "cell_type": "code",
   "execution_count": 5,
   "metadata": {},
   "outputs": [],
   "source": [
    "df = pd.DataFrame({ '賞味期限A' : 1.,\n",
    "                    '保管場所B' : pd.Timestamp('20130102'),\n",
    "                    '保管場所C' : pd.Series(1,index=list(range(5)),dtype='float32'),\n",
    "                    '賞味期限D' : np.array([3] * 5,dtype='int32'),\n",
    "                    'E賞味期限' : pd.Categorical([\"test\",\"train\",\"test\",\"train\", \"test\"]),\n",
    "                    '食品個F' : 'foo',\n",
    "                    '期間限定G' : ['1000', np.nan, '123', '1234', '']})"
   ]
  },
  {
   "cell_type": "markdown",
   "metadata": {},
   "source": [
    "## in 検索した結果のカラムのみ表示させる"
   ]
  },
  {
   "cell_type": "code",
   "execution_count": 6,
   "metadata": {},
   "outputs": [],
   "source": [
    "def in_search_col_list(df, cols=\"賞味期限\", head=2) -> List:\n",
    "    \"\"\" in search した colの結果を返す\n",
    "    \n",
    "    params\n",
    "    ----------\n",
    "    df(DataFrame): 取り込みデータ\n",
    "    cols(str): 検索にかけたいグローバルの値\n",
    "    head(int): 先頭から抽出するレコード数\n",
    "    \n",
    "    return\n",
    "    ----------\n",
    "    df(DataFrame) in 検索した結果をListで返す\n",
    "    \n",
    "    \"\"\"\n",
    "    return df[[ col for col in list(df.columns) if cols in col]].head(head)"
   ]
  },
  {
   "cell_type": "code",
   "execution_count": null,
   "metadata": {},
   "outputs": [],
   "source": [
    "in_search_col_list(df, cols=\"賞味期限\", head=2)"
   ]
  },
  {
   "cell_type": "code",
   "execution_count": null,
   "metadata": {},
   "outputs": [],
   "source": [
    "type(list(df.columns))"
   ]
  },
  {
   "cell_type": "code",
   "execution_count": null,
   "metadata": {},
   "outputs": [],
   "source": [
    "for col in list(df.columns):\n",
    "    print(col)"
   ]
  },
  {
   "cell_type": "code",
   "execution_count": null,
   "metadata": {},
   "outputs": [],
   "source": [
    "type(df.columns)"
   ]
  },
  {
   "cell_type": "code",
   "execution_count": null,
   "metadata": {},
   "outputs": [],
   "source": [
    "list(df.columns)"
   ]
  },
  {
   "cell_type": "code",
   "execution_count": null,
   "metadata": {},
   "outputs": [],
   "source": [
    "type(df)"
   ]
  },
  {
   "cell_type": "code",
   "execution_count": null,
   "metadata": {},
   "outputs": [],
   "source": [
    "df.iloc[:]"
   ]
  },
  {
   "cell_type": "code",
   "execution_count": null,
   "metadata": {},
   "outputs": [],
   "source": []
  }
 ],
 "metadata": {
  "kernelspec": {
   "display_name": "Python 3",
   "language": "python",
   "name": "python3"
  },
  "language_info": {
   "codemirror_mode": {
    "name": "ipython",
    "version": 3
   },
   "file_extension": ".py",
   "mimetype": "text/x-python",
   "name": "python",
   "nbconvert_exporter": "python",
   "pygments_lexer": "ipython3",
   "version": "3.8.5"
  }
 },
 "nbformat": 4,
 "nbformat_minor": 4
}
