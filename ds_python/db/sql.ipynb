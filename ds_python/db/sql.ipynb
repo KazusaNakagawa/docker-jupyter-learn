{
 "cells": [
  {
   "cell_type": "markdown",
   "id": "59345566-998e-413d-8732-23af7640fec4",
   "metadata": {},
   "source": [
    "## Docs\n",
    "* https://dev.mysql.com/doc/\n",
    "* https://docs.sqlalchemy.org/en/20/core/engines.html#mysql\n",
    "* https://jupyter-tutorial.readthedocs.io/en/stable/data-processing/postgresql/ipython-sql.html\n",
    "* [6.1 Tutorial: Raise Employee's Salary Using a Buffered Cursor](https://dev.mysql.com/doc/connector-python/en/connector-python-tutorial-cursorbuffered.html)\n",
    "\n",
    "## Ref\n",
    "* https://towardsdatascience.com/jupyter-magics-with-sql-921370099589"
   ]
  },
  {
   "cell_type": "code",
   "execution_count": 1,
   "id": "e0a2327c-14d2-4eb7-b247-6f0d9ad144d8",
   "metadata": {
    "tags": []
   },
   "outputs": [],
   "source": [
    "import os\n",
    "import pandas as pd\n",
    "\n",
    "import mysql.connector\n",
    "from dotenv import load_dotenv\n",
    "from mysql.connector import Error\n",
    "from sqlalchemy.engine import create_engine"
   ]
  },
  {
   "cell_type": "markdown",
   "id": "1da47206-8df2-46dc-9bad-a44f5de29770",
   "metadata": {
    "tags": []
   },
   "source": [
    "## enviroment"
   ]
  },
  {
   "cell_type": "code",
   "execution_count": 2,
   "id": "49c132f5-ea3e-469e-81b6-dd4927b40fcb",
   "metadata": {},
   "outputs": [],
   "source": [
    "load_dotenv()\n",
    "\n",
    "_MYSQL_ROOT_USER = os.getenv('MYSQL_ROOT_USER')\n",
    "_MYSQL_USER = os.getenv('MYSQL_USER')\n",
    "_MYSQL_ROOT_PASSWORD = os.getenv('MYSQL_ROOT_PASSWORD')\n",
    "_MYSQL_PASSWORD = os.getenv('MYSQL_PASSWORD')\n",
    "_MYSQL_DATABASE = os.getenv('MYSQL_DATABASE')\n",
    "# _MYSQL_USER = os.getenv('MYSQL_USER')\n",
    "_DB_PORT = os.getenv('DB_PORT')\n",
    "_DATABASE = os.getenv('DATABASE')"
   ]
  },
  {
   "cell_type": "markdown",
   "id": "552f8dce-00b9-4233-9537-7a74525f10c4",
   "metadata": {},
   "source": [
    "## execution pattern"
   ]
  },
  {
   "cell_type": "markdown",
   "id": "40380f07-96f1-4f29-a5cf-e312be149877",
   "metadata": {},
   "source": [
    "### Type1: Pandas"
   ]
  },
  {
   "cell_type": "code",
   "execution_count": 3,
   "id": "81afd853-724c-4e56-a4d3-dc65146aa62f",
   "metadata": {},
   "outputs": [],
   "source": [
    "URL =f\"mysql+pymysql://{_MYSQL_USER}:{_MYSQL_PASSWORD}@{_MYSQL_DATABASE}:{_DB_PORT}/{_DATABASE}\"\n",
    "# URL =f\"mysql+pymysql://{_MYSQL_ROOT_USER}:{_MYSQL_ROOT_PASSWORD}@{_MYSQL_DATABASE}:{_DB_PORT}/{_DATABASE}\"\n",
    "engine = create_engine(URL)"
   ]
  },
  {
   "cell_type": "code",
   "execution_count": 4,
   "id": "d231b2d9-99dd-4b24-91e3-de9696a871a0",
   "metadata": {},
   "outputs": [],
   "source": [
    "df = pd.read_sql('SELECT * FROM Album limit 1000', engine)"
   ]
  },
  {
   "cell_type": "code",
   "execution_count": 5,
   "id": "23672421-24ef-4f44-a401-a87c2c61104e",
   "metadata": {},
   "outputs": [
    {
     "data": {
      "text/plain": [
       "347"
      ]
     },
     "execution_count": 5,
     "metadata": {},
     "output_type": "execute_result"
    }
   ],
   "source": [
    "len(df)"
   ]
  },
  {
   "cell_type": "markdown",
   "id": "e73c449e-4260-4465-9e06-cda01409dd43",
   "metadata": {},
   "source": [
    "### Type2: magic CMD"
   ]
  },
  {
   "cell_type": "code",
   "execution_count": 6,
   "id": "6722983a-e9e3-4f4b-821a-791c0b88d74e",
   "metadata": {},
   "outputs": [],
   "source": [
    "# init\n",
    "%load_ext sql\n",
    "%config SqlMagic.displaycon=False \n",
    "%config SqlMagic.autopandas=True\n",
    "\n",
    "# IP addresses are variable.　: http://localhost:8888/lab?#%F0%9F%97%92-NOTE\n",
    "host_ = '172.25.0.2'\n",
    "%sql mysql+pymysql://{_MYSQL_USER}:{_MYSQL_PASSWORD}@{host_}/{_DATABASE}"
   ]
  },
  {
   "cell_type": "markdown",
   "id": "8cbbd12a-1b13-4ba2-a5b9-bec5a0b81528",
   "metadata": {},
   "source": [
    "#### table_schema"
   ]
  },
  {
   "cell_type": "code",
   "execution_count": 7,
   "id": "95bb336e-b8fd-4f88-bc3d-190fa45b14b9",
   "metadata": {},
   "outputs": [
    {
     "name": "stdout",
     "output_type": "stream",
     "text": [
      "11 rows affected.\n",
      "Returning data to local variable result_set\n"
     ]
    }
   ],
   "source": [
    "%%sql result_set << \n",
    "SELECT table_name, table_schema, table_type\n",
    "FROM information_schema.tables\n",
    "WHERE table_schema = 'Chinook'\n",
    "ORDER BY table_name ASC;"
   ]
  },
  {
   "cell_type": "code",
   "execution_count": 8,
   "id": "bf7b9aac-41c6-4a4c-910d-551cba93ad99",
   "metadata": {},
   "outputs": [
    {
     "data": {
      "text/html": [
       "<div>\n",
       "<style scoped>\n",
       "    .dataframe tbody tr th:only-of-type {\n",
       "        vertical-align: middle;\n",
       "    }\n",
       "\n",
       "    .dataframe tbody tr th {\n",
       "        vertical-align: top;\n",
       "    }\n",
       "\n",
       "    .dataframe thead th {\n",
       "        text-align: right;\n",
       "    }\n",
       "</style>\n",
       "<table border=\"1\" class=\"dataframe\">\n",
       "  <thead>\n",
       "    <tr style=\"text-align: right;\">\n",
       "      <th></th>\n",
       "      <th>table_name</th>\n",
       "      <th>table_schema</th>\n",
       "      <th>table_type</th>\n",
       "    </tr>\n",
       "  </thead>\n",
       "  <tbody>\n",
       "    <tr>\n",
       "      <th>0</th>\n",
       "      <td>Album</td>\n",
       "      <td>Chinook</td>\n",
       "      <td>BASE TABLE</td>\n",
       "    </tr>\n",
       "    <tr>\n",
       "      <th>1</th>\n",
       "      <td>Artist</td>\n",
       "      <td>Chinook</td>\n",
       "      <td>BASE TABLE</td>\n",
       "    </tr>\n",
       "    <tr>\n",
       "      <th>2</th>\n",
       "      <td>Customer</td>\n",
       "      <td>Chinook</td>\n",
       "      <td>BASE TABLE</td>\n",
       "    </tr>\n",
       "    <tr>\n",
       "      <th>3</th>\n",
       "      <td>Employee</td>\n",
       "      <td>Chinook</td>\n",
       "      <td>BASE TABLE</td>\n",
       "    </tr>\n",
       "    <tr>\n",
       "      <th>4</th>\n",
       "      <td>Genre</td>\n",
       "      <td>Chinook</td>\n",
       "      <td>BASE TABLE</td>\n",
       "    </tr>\n",
       "    <tr>\n",
       "      <th>5</th>\n",
       "      <td>Invoice</td>\n",
       "      <td>Chinook</td>\n",
       "      <td>BASE TABLE</td>\n",
       "    </tr>\n",
       "    <tr>\n",
       "      <th>6</th>\n",
       "      <td>InvoiceLine</td>\n",
       "      <td>Chinook</td>\n",
       "      <td>BASE TABLE</td>\n",
       "    </tr>\n",
       "    <tr>\n",
       "      <th>7</th>\n",
       "      <td>MediaType</td>\n",
       "      <td>Chinook</td>\n",
       "      <td>BASE TABLE</td>\n",
       "    </tr>\n",
       "    <tr>\n",
       "      <th>8</th>\n",
       "      <td>Playlist</td>\n",
       "      <td>Chinook</td>\n",
       "      <td>BASE TABLE</td>\n",
       "    </tr>\n",
       "    <tr>\n",
       "      <th>9</th>\n",
       "      <td>PlaylistTrack</td>\n",
       "      <td>Chinook</td>\n",
       "      <td>BASE TABLE</td>\n",
       "    </tr>\n",
       "    <tr>\n",
       "      <th>10</th>\n",
       "      <td>Track</td>\n",
       "      <td>Chinook</td>\n",
       "      <td>BASE TABLE</td>\n",
       "    </tr>\n",
       "  </tbody>\n",
       "</table>\n",
       "</div>"
      ],
      "text/plain": [
       "       table_name table_schema  table_type\n",
       "0           Album      Chinook  BASE TABLE\n",
       "1          Artist      Chinook  BASE TABLE\n",
       "2        Customer      Chinook  BASE TABLE\n",
       "3        Employee      Chinook  BASE TABLE\n",
       "4           Genre      Chinook  BASE TABLE\n",
       "5         Invoice      Chinook  BASE TABLE\n",
       "6     InvoiceLine      Chinook  BASE TABLE\n",
       "7       MediaType      Chinook  BASE TABLE\n",
       "8        Playlist      Chinook  BASE TABLE\n",
       "9   PlaylistTrack      Chinook  BASE TABLE\n",
       "10          Track      Chinook  BASE TABLE"
      ]
     },
     "execution_count": 8,
     "metadata": {},
     "output_type": "execute_result"
    }
   ],
   "source": [
    "result_set"
   ]
  },
  {
   "cell_type": "markdown",
   "id": "2ea17e73-192e-440a-8f06-05baa60965e2",
   "metadata": {},
   "source": [
    "#### Table columns\n",
    "* Album\n",
    "* Artist"
   ]
  },
  {
   "cell_type": "code",
   "execution_count": 9,
   "id": "546b3e75-902b-45d8-b310-dab00b896ed2",
   "metadata": {},
   "outputs": [
    {
     "name": "stdout",
     "output_type": "stream",
     "text": [
      "3 rows affected.\n",
      "Returning data to local variable result_set\n"
     ]
    }
   ],
   "source": [
    "%%sql result_set << \n",
    "SHOW COLUMNS FROM Album;"
   ]
  },
  {
   "cell_type": "code",
   "execution_count": 10,
   "id": "afe32b21-46db-4bf9-b8a6-95e7acfb474f",
   "metadata": {},
   "outputs": [
    {
     "data": {
      "text/html": [
       "<div>\n",
       "<style scoped>\n",
       "    .dataframe tbody tr th:only-of-type {\n",
       "        vertical-align: middle;\n",
       "    }\n",
       "\n",
       "    .dataframe tbody tr th {\n",
       "        vertical-align: top;\n",
       "    }\n",
       "\n",
       "    .dataframe thead th {\n",
       "        text-align: right;\n",
       "    }\n",
       "</style>\n",
       "<table border=\"1\" class=\"dataframe\">\n",
       "  <thead>\n",
       "    <tr style=\"text-align: right;\">\n",
       "      <th></th>\n",
       "      <th>Field</th>\n",
       "      <th>Type</th>\n",
       "      <th>Null</th>\n",
       "      <th>Key</th>\n",
       "      <th>Default</th>\n",
       "      <th>Extra</th>\n",
       "    </tr>\n",
       "  </thead>\n",
       "  <tbody>\n",
       "    <tr>\n",
       "      <th>0</th>\n",
       "      <td>AlbumId</td>\n",
       "      <td>int(11)</td>\n",
       "      <td>NO</td>\n",
       "      <td>PRI</td>\n",
       "      <td>None</td>\n",
       "      <td></td>\n",
       "    </tr>\n",
       "    <tr>\n",
       "      <th>1</th>\n",
       "      <td>Title</td>\n",
       "      <td>varchar(160)</td>\n",
       "      <td>NO</td>\n",
       "      <td></td>\n",
       "      <td>None</td>\n",
       "      <td></td>\n",
       "    </tr>\n",
       "    <tr>\n",
       "      <th>2</th>\n",
       "      <td>ArtistId</td>\n",
       "      <td>int(11)</td>\n",
       "      <td>NO</td>\n",
       "      <td>MUL</td>\n",
       "      <td>None</td>\n",
       "      <td></td>\n",
       "    </tr>\n",
       "  </tbody>\n",
       "</table>\n",
       "</div>"
      ],
      "text/plain": [
       "      Field          Type Null  Key Default Extra\n",
       "0   AlbumId       int(11)   NO  PRI    None      \n",
       "1     Title  varchar(160)   NO         None      \n",
       "2  ArtistId       int(11)   NO  MUL    None      "
      ]
     },
     "execution_count": 10,
     "metadata": {},
     "output_type": "execute_result"
    }
   ],
   "source": [
    "result_set"
   ]
  },
  {
   "cell_type": "code",
   "execution_count": 11,
   "id": "109d7d6e-00f1-4094-8d1c-c29ba2889b62",
   "metadata": {},
   "outputs": [
    {
     "name": "stdout",
     "output_type": "stream",
     "text": [
      "3 rows affected.\n",
      "Returning data to local variable result_table\n"
     ]
    }
   ],
   "source": [
    "%%sql result_table << \n",
    "SHOW COLUMNS FROM Album;"
   ]
  },
  {
   "cell_type": "code",
   "execution_count": 12,
   "id": "e27ae7a7-c921-40dd-a9b7-9a3038419f54",
   "metadata": {},
   "outputs": [
    {
     "data": {
      "text/html": [
       "<div>\n",
       "<style scoped>\n",
       "    .dataframe tbody tr th:only-of-type {\n",
       "        vertical-align: middle;\n",
       "    }\n",
       "\n",
       "    .dataframe tbody tr th {\n",
       "        vertical-align: top;\n",
       "    }\n",
       "\n",
       "    .dataframe thead th {\n",
       "        text-align: right;\n",
       "    }\n",
       "</style>\n",
       "<table border=\"1\" class=\"dataframe\">\n",
       "  <thead>\n",
       "    <tr style=\"text-align: right;\">\n",
       "      <th></th>\n",
       "      <th>Field</th>\n",
       "      <th>Type</th>\n",
       "      <th>Null</th>\n",
       "      <th>Key</th>\n",
       "      <th>Default</th>\n",
       "      <th>Extra</th>\n",
       "    </tr>\n",
       "  </thead>\n",
       "  <tbody>\n",
       "    <tr>\n",
       "      <th>0</th>\n",
       "      <td>AlbumId</td>\n",
       "      <td>int(11)</td>\n",
       "      <td>NO</td>\n",
       "      <td>PRI</td>\n",
       "      <td>None</td>\n",
       "      <td></td>\n",
       "    </tr>\n",
       "    <tr>\n",
       "      <th>1</th>\n",
       "      <td>Title</td>\n",
       "      <td>varchar(160)</td>\n",
       "      <td>NO</td>\n",
       "      <td></td>\n",
       "      <td>None</td>\n",
       "      <td></td>\n",
       "    </tr>\n",
       "    <tr>\n",
       "      <th>2</th>\n",
       "      <td>ArtistId</td>\n",
       "      <td>int(11)</td>\n",
       "      <td>NO</td>\n",
       "      <td>MUL</td>\n",
       "      <td>None</td>\n",
       "      <td></td>\n",
       "    </tr>\n",
       "  </tbody>\n",
       "</table>\n",
       "</div>"
      ],
      "text/plain": [
       "      Field          Type Null  Key Default Extra\n",
       "0   AlbumId       int(11)   NO  PRI    None      \n",
       "1     Title  varchar(160)   NO         None      \n",
       "2  ArtistId       int(11)   NO  MUL    None      "
      ]
     },
     "execution_count": 12,
     "metadata": {},
     "output_type": "execute_result"
    }
   ],
   "source": [
    "result_table"
   ]
  },
  {
   "cell_type": "code",
   "execution_count": 13,
   "id": "84a3dea3-f34b-4ec5-ab9f-90fc01e48f47",
   "metadata": {},
   "outputs": [
    {
     "name": "stdout",
     "output_type": "stream",
     "text": [
      "2 rows affected.\n",
      "Returning data to local variable result_table\n"
     ]
    }
   ],
   "source": [
    "%%sql result_table << \n",
    "SHOW COLUMNS FROM Artist;"
   ]
  },
  {
   "cell_type": "code",
   "execution_count": 14,
   "id": "263c44c9-1ab1-4886-ac8e-f2bd71cf3830",
   "metadata": {},
   "outputs": [
    {
     "data": {
      "text/html": [
       "<div>\n",
       "<style scoped>\n",
       "    .dataframe tbody tr th:only-of-type {\n",
       "        vertical-align: middle;\n",
       "    }\n",
       "\n",
       "    .dataframe tbody tr th {\n",
       "        vertical-align: top;\n",
       "    }\n",
       "\n",
       "    .dataframe thead th {\n",
       "        text-align: right;\n",
       "    }\n",
       "</style>\n",
       "<table border=\"1\" class=\"dataframe\">\n",
       "  <thead>\n",
       "    <tr style=\"text-align: right;\">\n",
       "      <th></th>\n",
       "      <th>Field</th>\n",
       "      <th>Type</th>\n",
       "      <th>Null</th>\n",
       "      <th>Key</th>\n",
       "      <th>Default</th>\n",
       "      <th>Extra</th>\n",
       "    </tr>\n",
       "  </thead>\n",
       "  <tbody>\n",
       "    <tr>\n",
       "      <th>0</th>\n",
       "      <td>ArtistId</td>\n",
       "      <td>int(11)</td>\n",
       "      <td>NO</td>\n",
       "      <td>PRI</td>\n",
       "      <td>None</td>\n",
       "      <td></td>\n",
       "    </tr>\n",
       "    <tr>\n",
       "      <th>1</th>\n",
       "      <td>Name</td>\n",
       "      <td>varchar(120)</td>\n",
       "      <td>YES</td>\n",
       "      <td></td>\n",
       "      <td>None</td>\n",
       "      <td></td>\n",
       "    </tr>\n",
       "  </tbody>\n",
       "</table>\n",
       "</div>"
      ],
      "text/plain": [
       "      Field          Type Null  Key Default Extra\n",
       "0  ArtistId       int(11)   NO  PRI    None      \n",
       "1      Name  varchar(120)  YES         None      "
      ]
     },
     "execution_count": 14,
     "metadata": {},
     "output_type": "execute_result"
    }
   ],
   "source": [
    "result_table"
   ]
  },
  {
   "cell_type": "markdown",
   "id": "b2ea21de-91a3-4504-8d83-16d5a0773337",
   "metadata": {},
   "source": [
    "#### INNER JOIN "
   ]
  },
  {
   "cell_type": "code",
   "execution_count": 15,
   "id": "5a3ab6d8-c434-4921-b787-38870987cb62",
   "metadata": {},
   "outputs": [
    {
     "name": "stdout",
     "output_type": "stream",
     "text": [
      "347 rows affected.\n",
      "Returning data to local variable result_set2\n"
     ]
    }
   ],
   "source": [
    "%%sql result_set2 <<\n",
    "SELECT a.AlbumId, b.ArtistId, a.Title, b.Name\n",
    "FROM\n",
    " Album AS a\n",
    "INNER JOIN Artist AS b ON a.ArtistId = b.ArtistId"
   ]
  },
  {
   "cell_type": "code",
   "execution_count": 16,
   "id": "666db57a-e6a7-4211-98d7-368beb57d363",
   "metadata": {},
   "outputs": [
    {
     "data": {
      "text/html": [
       "<div>\n",
       "<style scoped>\n",
       "    .dataframe tbody tr th:only-of-type {\n",
       "        vertical-align: middle;\n",
       "    }\n",
       "\n",
       "    .dataframe tbody tr th {\n",
       "        vertical-align: top;\n",
       "    }\n",
       "\n",
       "    .dataframe thead th {\n",
       "        text-align: right;\n",
       "    }\n",
       "</style>\n",
       "<table border=\"1\" class=\"dataframe\">\n",
       "  <thead>\n",
       "    <tr style=\"text-align: right;\">\n",
       "      <th></th>\n",
       "      <th>AlbumId</th>\n",
       "      <th>ArtistId</th>\n",
       "      <th>Title</th>\n",
       "      <th>Name</th>\n",
       "    </tr>\n",
       "  </thead>\n",
       "  <tbody>\n",
       "    <tr>\n",
       "      <th>0</th>\n",
       "      <td>1</td>\n",
       "      <td>1</td>\n",
       "      <td>For Those About To Rock We Salute You</td>\n",
       "      <td>AC/DC</td>\n",
       "    </tr>\n",
       "    <tr>\n",
       "      <th>1</th>\n",
       "      <td>2</td>\n",
       "      <td>2</td>\n",
       "      <td>Balls to the Wall</td>\n",
       "      <td>Accept</td>\n",
       "    </tr>\n",
       "    <tr>\n",
       "      <th>2</th>\n",
       "      <td>3</td>\n",
       "      <td>2</td>\n",
       "      <td>Restless and Wild</td>\n",
       "      <td>Accept</td>\n",
       "    </tr>\n",
       "    <tr>\n",
       "      <th>3</th>\n",
       "      <td>4</td>\n",
       "      <td>1</td>\n",
       "      <td>Let There Be Rock</td>\n",
       "      <td>AC/DC</td>\n",
       "    </tr>\n",
       "    <tr>\n",
       "      <th>4</th>\n",
       "      <td>5</td>\n",
       "      <td>3</td>\n",
       "      <td>Big Ones</td>\n",
       "      <td>Aerosmith</td>\n",
       "    </tr>\n",
       "    <tr>\n",
       "      <th>...</th>\n",
       "      <td>...</td>\n",
       "      <td>...</td>\n",
       "      <td>...</td>\n",
       "      <td>...</td>\n",
       "    </tr>\n",
       "    <tr>\n",
       "      <th>342</th>\n",
       "      <td>343</td>\n",
       "      <td>226</td>\n",
       "      <td>Respighi:Pines of Rome</td>\n",
       "      <td>Eugene Ormandy</td>\n",
       "    </tr>\n",
       "    <tr>\n",
       "      <th>343</th>\n",
       "      <td>344</td>\n",
       "      <td>272</td>\n",
       "      <td>Schubert: The Late String Quartets &amp; String Qu...</td>\n",
       "      <td>Emerson String Quartet</td>\n",
       "    </tr>\n",
       "    <tr>\n",
       "      <th>344</th>\n",
       "      <td>345</td>\n",
       "      <td>273</td>\n",
       "      <td>Monteverdi: L'Orfeo</td>\n",
       "      <td>C. Monteverdi, Nigel Rogers - Chiaroscuro; Lon...</td>\n",
       "    </tr>\n",
       "    <tr>\n",
       "      <th>345</th>\n",
       "      <td>346</td>\n",
       "      <td>274</td>\n",
       "      <td>Mozart: Chamber Music</td>\n",
       "      <td>Nash Ensemble</td>\n",
       "    </tr>\n",
       "    <tr>\n",
       "      <th>346</th>\n",
       "      <td>347</td>\n",
       "      <td>275</td>\n",
       "      <td>Koyaanisqatsi (Soundtrack from the Motion Pict...</td>\n",
       "      <td>Philip Glass Ensemble</td>\n",
       "    </tr>\n",
       "  </tbody>\n",
       "</table>\n",
       "<p>347 rows × 4 columns</p>\n",
       "</div>"
      ],
      "text/plain": [
       "     AlbumId  ArtistId                                              Title  \\\n",
       "0          1         1              For Those About To Rock We Salute You   \n",
       "1          2         2                                  Balls to the Wall   \n",
       "2          3         2                                  Restless and Wild   \n",
       "3          4         1                                  Let There Be Rock   \n",
       "4          5         3                                           Big Ones   \n",
       "..       ...       ...                                                ...   \n",
       "342      343       226                             Respighi:Pines of Rome   \n",
       "343      344       272  Schubert: The Late String Quartets & String Qu...   \n",
       "344      345       273                                Monteverdi: L'Orfeo   \n",
       "345      346       274                              Mozart: Chamber Music   \n",
       "346      347       275  Koyaanisqatsi (Soundtrack from the Motion Pict...   \n",
       "\n",
       "                                                  Name  \n",
       "0                                                AC/DC  \n",
       "1                                               Accept  \n",
       "2                                               Accept  \n",
       "3                                                AC/DC  \n",
       "4                                            Aerosmith  \n",
       "..                                                 ...  \n",
       "342                                     Eugene Ormandy  \n",
       "343                             Emerson String Quartet  \n",
       "344  C. Monteverdi, Nigel Rogers - Chiaroscuro; Lon...  \n",
       "345                                      Nash Ensemble  \n",
       "346                              Philip Glass Ensemble  \n",
       "\n",
       "[347 rows x 4 columns]"
      ]
     },
     "execution_count": 16,
     "metadata": {},
     "output_type": "execute_result"
    }
   ],
   "source": [
    "# search Artist.Name\n",
    "result_set2"
   ]
  },
  {
   "cell_type": "code",
   "execution_count": 17,
   "id": "689075ad-f804-4b1c-95d1-bbd9bf2bcfcc",
   "metadata": {},
   "outputs": [
    {
     "data": {
      "text/html": [
       "<div>\n",
       "<style scoped>\n",
       "    .dataframe tbody tr th:only-of-type {\n",
       "        vertical-align: middle;\n",
       "    }\n",
       "\n",
       "    .dataframe tbody tr th {\n",
       "        vertical-align: top;\n",
       "    }\n",
       "\n",
       "    .dataframe thead th {\n",
       "        text-align: right;\n",
       "    }\n",
       "</style>\n",
       "<table border=\"1\" class=\"dataframe\">\n",
       "  <thead>\n",
       "    <tr style=\"text-align: right;\">\n",
       "      <th></th>\n",
       "      <th>AlbumId</th>\n",
       "      <th>ArtistId</th>\n",
       "    </tr>\n",
       "  </thead>\n",
       "  <tbody>\n",
       "    <tr>\n",
       "      <th>count</th>\n",
       "      <td>347.000000</td>\n",
       "      <td>347.000000</td>\n",
       "    </tr>\n",
       "    <tr>\n",
       "      <th>mean</th>\n",
       "      <td>174.000000</td>\n",
       "      <td>121.942363</td>\n",
       "    </tr>\n",
       "    <tr>\n",
       "      <th>std</th>\n",
       "      <td>100.314505</td>\n",
       "      <td>77.793131</td>\n",
       "    </tr>\n",
       "    <tr>\n",
       "      <th>min</th>\n",
       "      <td>1.000000</td>\n",
       "      <td>1.000000</td>\n",
       "    </tr>\n",
       "    <tr>\n",
       "      <th>25%</th>\n",
       "      <td>87.500000</td>\n",
       "      <td>58.000000</td>\n",
       "    </tr>\n",
       "    <tr>\n",
       "      <th>50%</th>\n",
       "      <td>174.000000</td>\n",
       "      <td>112.000000</td>\n",
       "    </tr>\n",
       "    <tr>\n",
       "      <th>75%</th>\n",
       "      <td>260.500000</td>\n",
       "      <td>179.500000</td>\n",
       "    </tr>\n",
       "    <tr>\n",
       "      <th>max</th>\n",
       "      <td>347.000000</td>\n",
       "      <td>275.000000</td>\n",
       "    </tr>\n",
       "  </tbody>\n",
       "</table>\n",
       "</div>"
      ],
      "text/plain": [
       "          AlbumId    ArtistId\n",
       "count  347.000000  347.000000\n",
       "mean   174.000000  121.942363\n",
       "std    100.314505   77.793131\n",
       "min      1.000000    1.000000\n",
       "25%     87.500000   58.000000\n",
       "50%    174.000000  112.000000\n",
       "75%    260.500000  179.500000\n",
       "max    347.000000  275.000000"
      ]
     },
     "execution_count": 17,
     "metadata": {},
     "output_type": "execute_result"
    }
   ],
   "source": [
    "result_set2.describe()"
   ]
  },
  {
   "cell_type": "markdown",
   "id": "91a1a6a2-542d-4dd5-b3a6-00a453608b73",
   "metadata": {},
   "source": [
    "### SELECT\n",
    "* ArtistId が 指定数より多いレコード\n",
    "* 自己結合\n",
    "* JOIN Artist TBL"
   ]
  },
  {
   "cell_type": "code",
   "execution_count": 18,
   "id": "58789e12-1738-4a22-8ed1-da00b6052fd9",
   "metadata": {},
   "outputs": [
    {
     "name": "stdout",
     "output_type": "stream",
     "text": [
      "0 rows affected.\n",
      "46 rows affected.\n",
      "Returning data to local variable result_serect1\n"
     ]
    }
   ],
   "source": [
    "%%sql result_serect1 <<\n",
    "-- SET var\n",
    "SET @artist_id_cnt = 10;\n",
    "\n",
    "-- Query\n",
    "SELECT\n",
    "  c.AlbumId,\n",
    "  c.ArtistId,\n",
    "  c.Title,\n",
    "  d.Name \n",
    "FROM \n",
    "   (\n",
    "    SELECT \n",
    "      ArtistId,\n",
    "      COUNT(ArtistId) AS CNT\n",
    "    FROM Album\n",
    "    GROUP BY ArtistId\n",
    "   ) AS ArtistId_CNT\n",
    "INNER JOIN\n",
    "  Album AS c\n",
    "ON\n",
    "  ArtistId_CNT.ArtistId = c.ArtistId\n",
    "INNER JOIN\n",
    "  Artist AS d ON c.ArtistId = d.ArtistId\n",
    "AND\n",
    "  ArtistId_CNT.CNT > @artist_id_cnt"
   ]
  },
  {
   "cell_type": "code",
   "execution_count": 19,
   "id": "78096f14-5ae0-40db-bb3e-a47835f97b8c",
   "metadata": {},
   "outputs": [
    {
     "data": {
      "text/html": [
       "<div>\n",
       "<style scoped>\n",
       "    .dataframe tbody tr th:only-of-type {\n",
       "        vertical-align: middle;\n",
       "    }\n",
       "\n",
       "    .dataframe tbody tr th {\n",
       "        vertical-align: top;\n",
       "    }\n",
       "\n",
       "    .dataframe thead th {\n",
       "        text-align: right;\n",
       "    }\n",
       "</style>\n",
       "<table border=\"1\" class=\"dataframe\">\n",
       "  <thead>\n",
       "    <tr style=\"text-align: right;\">\n",
       "      <th></th>\n",
       "      <th>AlbumId</th>\n",
       "      <th>ArtistId</th>\n",
       "      <th>Title</th>\n",
       "      <th>Name</th>\n",
       "    </tr>\n",
       "  </thead>\n",
       "  <tbody>\n",
       "    <tr>\n",
       "      <th>0</th>\n",
       "      <td>30</td>\n",
       "      <td>22</td>\n",
       "      <td>BBC Sessions [Disc 1] [Live]</td>\n",
       "      <td>Led Zeppelin</td>\n",
       "    </tr>\n",
       "    <tr>\n",
       "      <th>1</th>\n",
       "      <td>43</td>\n",
       "      <td>58</td>\n",
       "      <td>MK III The Final Concerts [Disc 1]</td>\n",
       "      <td>Deep Purple</td>\n",
       "    </tr>\n",
       "    <tr>\n",
       "      <th>2</th>\n",
       "      <td>44</td>\n",
       "      <td>22</td>\n",
       "      <td>Physical Graffiti [Disc 1]</td>\n",
       "      <td>Led Zeppelin</td>\n",
       "    </tr>\n",
       "    <tr>\n",
       "      <th>3</th>\n",
       "      <td>50</td>\n",
       "      <td>58</td>\n",
       "      <td>The Final Concerts (Disc 2)</td>\n",
       "      <td>Deep Purple</td>\n",
       "    </tr>\n",
       "    <tr>\n",
       "      <th>4</th>\n",
       "      <td>58</td>\n",
       "      <td>58</td>\n",
       "      <td>Come Taste The Band</td>\n",
       "      <td>Deep Purple</td>\n",
       "    </tr>\n",
       "  </tbody>\n",
       "</table>\n",
       "</div>"
      ],
      "text/plain": [
       "   AlbumId  ArtistId                               Title          Name\n",
       "0       30        22        BBC Sessions [Disc 1] [Live]  Led Zeppelin\n",
       "1       43        58  MK III The Final Concerts [Disc 1]   Deep Purple\n",
       "2       44        22          Physical Graffiti [Disc 1]  Led Zeppelin\n",
       "3       50        58         The Final Concerts (Disc 2)   Deep Purple\n",
       "4       58        58                 Come Taste The Band   Deep Purple"
      ]
     },
     "execution_count": 19,
     "metadata": {},
     "output_type": "execute_result"
    }
   ],
   "source": [
    "result_serect1.head()"
   ]
  },
  {
   "cell_type": "code",
   "execution_count": 20,
   "id": "1e915355-a642-41c3-bc8f-315a3d64529a",
   "metadata": {},
   "outputs": [
    {
     "data": {
      "text/html": [
       "<div>\n",
       "<style scoped>\n",
       "    .dataframe tbody tr th:only-of-type {\n",
       "        vertical-align: middle;\n",
       "    }\n",
       "\n",
       "    .dataframe tbody tr th {\n",
       "        vertical-align: top;\n",
       "    }\n",
       "\n",
       "    .dataframe thead th {\n",
       "        text-align: right;\n",
       "    }\n",
       "</style>\n",
       "<table border=\"1\" class=\"dataframe\">\n",
       "  <thead>\n",
       "    <tr style=\"text-align: right;\">\n",
       "      <th></th>\n",
       "      <th>AlbumId</th>\n",
       "      <th>ArtistId</th>\n",
       "      <th>Title</th>\n",
       "      <th>Name</th>\n",
       "    </tr>\n",
       "  </thead>\n",
       "  <tbody>\n",
       "    <tr>\n",
       "      <th>1</th>\n",
       "      <td>43</td>\n",
       "      <td>58</td>\n",
       "      <td>MK III The Final Concerts [Disc 1]</td>\n",
       "      <td>Deep Purple</td>\n",
       "    </tr>\n",
       "    <tr>\n",
       "      <th>3</th>\n",
       "      <td>50</td>\n",
       "      <td>58</td>\n",
       "      <td>The Final Concerts (Disc 2)</td>\n",
       "      <td>Deep Purple</td>\n",
       "    </tr>\n",
       "    <tr>\n",
       "      <th>4</th>\n",
       "      <td>58</td>\n",
       "      <td>58</td>\n",
       "      <td>Come Taste The Band</td>\n",
       "      <td>Deep Purple</td>\n",
       "    </tr>\n",
       "    <tr>\n",
       "      <th>5</th>\n",
       "      <td>59</td>\n",
       "      <td>58</td>\n",
       "      <td>Deep Purple In Rock</td>\n",
       "      <td>Deep Purple</td>\n",
       "    </tr>\n",
       "    <tr>\n",
       "      <th>6</th>\n",
       "      <td>60</td>\n",
       "      <td>58</td>\n",
       "      <td>Fireball</td>\n",
       "      <td>Deep Purple</td>\n",
       "    </tr>\n",
       "    <tr>\n",
       "      <th>7</th>\n",
       "      <td>61</td>\n",
       "      <td>58</td>\n",
       "      <td>Knocking at Your Back Door: The Best Of Deep P...</td>\n",
       "      <td>Deep Purple</td>\n",
       "    </tr>\n",
       "    <tr>\n",
       "      <th>8</th>\n",
       "      <td>62</td>\n",
       "      <td>58</td>\n",
       "      <td>Machine Head</td>\n",
       "      <td>Deep Purple</td>\n",
       "    </tr>\n",
       "    <tr>\n",
       "      <th>9</th>\n",
       "      <td>63</td>\n",
       "      <td>58</td>\n",
       "      <td>Purpendicular</td>\n",
       "      <td>Deep Purple</td>\n",
       "    </tr>\n",
       "    <tr>\n",
       "      <th>10</th>\n",
       "      <td>64</td>\n",
       "      <td>58</td>\n",
       "      <td>Slaves And Masters</td>\n",
       "      <td>Deep Purple</td>\n",
       "    </tr>\n",
       "    <tr>\n",
       "      <th>11</th>\n",
       "      <td>65</td>\n",
       "      <td>58</td>\n",
       "      <td>Stormbringer</td>\n",
       "      <td>Deep Purple</td>\n",
       "    </tr>\n",
       "    <tr>\n",
       "      <th>12</th>\n",
       "      <td>66</td>\n",
       "      <td>58</td>\n",
       "      <td>The Battle Rages On</td>\n",
       "      <td>Deep Purple</td>\n",
       "    </tr>\n",
       "  </tbody>\n",
       "</table>\n",
       "</div>"
      ],
      "text/plain": [
       "    AlbumId  ArtistId                                              Title  \\\n",
       "1        43        58                 MK III The Final Concerts [Disc 1]   \n",
       "3        50        58                        The Final Concerts (Disc 2)   \n",
       "4        58        58                                Come Taste The Band   \n",
       "5        59        58                                Deep Purple In Rock   \n",
       "6        60        58                                           Fireball   \n",
       "7        61        58  Knocking at Your Back Door: The Best Of Deep P...   \n",
       "8        62        58                                       Machine Head   \n",
       "9        63        58                                      Purpendicular   \n",
       "10       64        58                                 Slaves And Masters   \n",
       "11       65        58                                       Stormbringer   \n",
       "12       66        58                                The Battle Rages On   \n",
       "\n",
       "           Name  \n",
       "1   Deep Purple  \n",
       "3   Deep Purple  \n",
       "4   Deep Purple  \n",
       "5   Deep Purple  \n",
       "6   Deep Purple  \n",
       "7   Deep Purple  \n",
       "8   Deep Purple  \n",
       "9   Deep Purple  \n",
       "10  Deep Purple  \n",
       "11  Deep Purple  \n",
       "12  Deep Purple  "
      ]
     },
     "execution_count": 20,
     "metadata": {},
     "output_type": "execute_result"
    }
   ],
   "source": [
    "# Select Artist Name\n",
    "result_serect1[result_serect1['Name'] == 'Deep Purple']"
   ]
  },
  {
   "cell_type": "code",
   "execution_count": 21,
   "id": "7e4c1484-dc42-4a27-a0e9-b15df8f101ad",
   "metadata": {},
   "outputs": [
    {
     "data": {
      "text/plain": [
       "'Artist: Led Zeppelin, Recode count: 46'"
      ]
     },
     "execution_count": 21,
     "metadata": {},
     "output_type": "execute_result"
    }
   ],
   "source": [
    "# Max Recode Artist Naem\n",
    "max_artist_name = max(result_serect1['Name'])\n",
    "count_ = len(result_serect1['Name'] == max_artist_name)\n",
    "result = f\"Artist: {max_artist_name}, Recode count: {count_}\"\n",
    "result"
   ]
  },
  {
   "cell_type": "markdown",
   "id": "5821c27a-0c45-4c81-b7b2-38639fd1d783",
   "metadata": {
    "tags": []
   },
   "source": [
    "### SET\n",
    "* album.title"
   ]
  },
  {
   "cell_type": "code",
   "execution_count": 22,
   "id": "fb47d70f-5d4e-4c83-9287-641a058d2174",
   "metadata": {},
   "outputs": [
    {
     "name": "stdout",
     "output_type": "stream",
     "text": [
      "0 rows affected.\n",
      "3 rows affected.\n",
      "Returning data to local variable result_set3\n"
     ]
    }
   ],
   "source": [
    "%%sql result_set3 <<\n",
    "SET @title = '%Rome%';\n",
    "SELECT * FROM Album WHERE Title LIKE @title"
   ]
  },
  {
   "cell_type": "code",
   "execution_count": 23,
   "id": "ac48e001-3c24-4ef5-88fa-7349fa292c86",
   "metadata": {},
   "outputs": [
    {
     "data": {
      "text/html": [
       "<div>\n",
       "<style scoped>\n",
       "    .dataframe tbody tr th:only-of-type {\n",
       "        vertical-align: middle;\n",
       "    }\n",
       "\n",
       "    .dataframe tbody tr th {\n",
       "        vertical-align: top;\n",
       "    }\n",
       "\n",
       "    .dataframe thead th {\n",
       "        text-align: right;\n",
       "    }\n",
       "</style>\n",
       "<table border=\"1\" class=\"dataframe\">\n",
       "  <thead>\n",
       "    <tr style=\"text-align: right;\">\n",
       "      <th></th>\n",
       "      <th>AlbumId</th>\n",
       "      <th>Title</th>\n",
       "      <th>ArtistId</th>\n",
       "    </tr>\n",
       "  </thead>\n",
       "  <tbody>\n",
       "    <tr>\n",
       "      <th>0</th>\n",
       "      <td>208</td>\n",
       "      <td>[1997] Black Light Syndrome</td>\n",
       "      <td>136</td>\n",
       "    </tr>\n",
       "    <tr>\n",
       "      <th>1</th>\n",
       "      <td>310</td>\n",
       "      <td>Prokofiev: Romeo &amp; Juliet</td>\n",
       "      <td>245</td>\n",
       "    </tr>\n",
       "    <tr>\n",
       "      <th>2</th>\n",
       "      <td>343</td>\n",
       "      <td>Respighi:Pines of Rome</td>\n",
       "      <td>226</td>\n",
       "    </tr>\n",
       "  </tbody>\n",
       "</table>\n",
       "</div>"
      ],
      "text/plain": [
       "   AlbumId                        Title  ArtistId\n",
       "0      208  [1997] Black Light Syndrome       136\n",
       "1      310    Prokofiev: Romeo & Juliet       245\n",
       "2      343       Respighi:Pines of Rome       226"
      ]
     },
     "execution_count": 23,
     "metadata": {},
     "output_type": "execute_result"
    }
   ],
   "source": [
    "result_set3"
   ]
  },
  {
   "cell_type": "markdown",
   "id": "b383d7de-f1df-4a97-a30e-9e238da25d79",
   "metadata": {},
   "source": [
    "---"
   ]
  },
  {
   "cell_type": "markdown",
   "id": "37fee234-67d1-4b16-9b1f-34a1bd16fb02",
   "metadata": {},
   "source": [
    "## 🗒 NOTE"
   ]
  },
  {
   "cell_type": "markdown",
   "id": "68d2dc5f-d6d3-4409-8d4a-562429ddc986",
   "metadata": {
    "tags": []
   },
   "source": [
    "### コンテナDB の IP アドレスを検索する\n",
    "※ コンテナ 再度立ち上げると IP 割り当てかわっている\n",
    "```bash\n",
    "# ex:\n",
    "$ docker inspect {CONTAINER ID} | grep IPAddress\n",
    "            \"SecondaryIPAddresses\": null,\n",
    "            \"IPAddress\": \"\",\n",
    "                    \"IPAddress\": \"172.23.0.2\",\n",
    "```                    "
   ]
  },
  {
   "cell_type": "code",
   "execution_count": null,
   "id": "da54f388-2723-47f6-9095-88dea18895de",
   "metadata": {},
   "outputs": [],
   "source": []
  }
 ],
 "metadata": {
  "kernelspec": {
   "display_name": "Python 3 (ipykernel)",
   "language": "python",
   "name": "python3"
  },
  "language_info": {
   "codemirror_mode": {
    "name": "ipython",
    "version": 3
   },
   "file_extension": ".py",
   "mimetype": "text/x-python",
   "name": "python",
   "nbconvert_exporter": "python",
   "pygments_lexer": "ipython3",
   "version": "3.9.12"
  }
 },
 "nbformat": 4,
 "nbformat_minor": 5
}
