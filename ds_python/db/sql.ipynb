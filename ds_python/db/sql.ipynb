{
 "cells": [
  {
   "cell_type": "markdown",
   "id": "59345566-998e-413d-8732-23af7640fec4",
   "metadata": {},
   "source": [
    "## Docs\n",
    "* https://dev.mysql.com/doc/\n",
    "* https://docs.sqlalchemy.org/en/20/core/engines.html#mysql\n",
    "* https://jupyter-tutorial.readthedocs.io/en/stable/data-processing/postgresql/ipython-sql.html\n",
    "* [6.1 Tutorial: Raise Employee's Salary Using a Buffered Cursor](https://dev.mysql.com/doc/connector-python/en/connector-python-tutorial-cursorbuffered.html)\n",
    "\n",
    "## Ref\n",
    "* https://towardsdatascience.com/jupyter-magics-with-sql-921370099589"
   ]
  },
  {
   "cell_type": "code",
   "execution_count": 1,
   "id": "e0a2327c-14d2-4eb7-b247-6f0d9ad144d8",
   "metadata": {
    "tags": []
   },
   "outputs": [],
   "source": [
    "import os\n",
    "import pandas as pd\n",
    "\n",
    "import mysql.connector\n",
    "from dotenv import load_dotenv\n",
    "from mysql.connector import Error\n",
    "from sqlalchemy.engine import create_engine"
   ]
  },
  {
   "cell_type": "markdown",
   "id": "1da47206-8df2-46dc-9bad-a44f5de29770",
   "metadata": {
    "tags": []
   },
   "source": [
    "## enviroment"
   ]
  },
  {
   "cell_type": "code",
   "execution_count": 2,
   "id": "49c132f5-ea3e-469e-81b6-dd4927b40fcb",
   "metadata": {},
   "outputs": [],
   "source": [
    "load_dotenv()\n",
    "\n",
    "_MYSQL_ROOT_USER = os.getenv('MYSQL_ROOT_USER')\n",
    "_MYSQL_USER = os.getenv('MYSQL_USER')\n",
    "_MYSQL_ROOT_PASSWORD = os.getenv('MYSQL_ROOT_PASSWORD')\n",
    "_MYSQL_PASSWORD = os.getenv('MYSQL_PASSWORD')\n",
    "_MYSQL_DATABASE = os.getenv('MYSQL_DATABASE')\n",
    "# _MYSQL_USER = os.getenv('MYSQL_USER')\n",
    "_DB_PORT = os.getenv('DB_PORT')\n",
    "_DATABASE = os.getenv('DATABASE')"
   ]
  },
  {
   "cell_type": "markdown",
   "id": "552f8dce-00b9-4233-9537-7a74525f10c4",
   "metadata": {},
   "source": [
    "## execution pattern"
   ]
  },
  {
   "cell_type": "markdown",
   "id": "40380f07-96f1-4f29-a5cf-e312be149877",
   "metadata": {},
   "source": [
    "### Type1: Pandas"
   ]
  },
  {
   "cell_type": "code",
   "execution_count": 3,
   "id": "81afd853-724c-4e56-a4d3-dc65146aa62f",
   "metadata": {},
   "outputs": [],
   "source": [
    "URL =f\"mysql+pymysql://{_MYSQL_USER}:{_MYSQL_PASSWORD}@{_MYSQL_DATABASE}:{_DB_PORT}/{_DATABASE}\"\n",
    "# URL =f\"mysql+pymysql://{_MYSQL_ROOT_USER}:{_MYSQL_ROOT_PASSWORD}@{_MYSQL_DATABASE}:{_DB_PORT}/{_DATABASE}\"\n",
    "engine = create_engine(URL)"
   ]
  },
  {
   "cell_type": "code",
   "execution_count": 4,
   "id": "d231b2d9-99dd-4b24-91e3-de9696a871a0",
   "metadata": {},
   "outputs": [],
   "source": [
    "df = pd.read_sql('SELECT * FROM Album limit 10', engine)"
   ]
  },
  {
   "cell_type": "code",
   "execution_count": 5,
   "id": "23672421-24ef-4f44-a401-a87c2c61104e",
   "metadata": {},
   "outputs": [
    {
     "data": {
      "text/html": [
       "<div>\n",
       "<style scoped>\n",
       "    .dataframe tbody tr th:only-of-type {\n",
       "        vertical-align: middle;\n",
       "    }\n",
       "\n",
       "    .dataframe tbody tr th {\n",
       "        vertical-align: top;\n",
       "    }\n",
       "\n",
       "    .dataframe thead th {\n",
       "        text-align: right;\n",
       "    }\n",
       "</style>\n",
       "<table border=\"1\" class=\"dataframe\">\n",
       "  <thead>\n",
       "    <tr style=\"text-align: right;\">\n",
       "      <th></th>\n",
       "      <th>AlbumId</th>\n",
       "      <th>Title</th>\n",
       "      <th>ArtistId</th>\n",
       "    </tr>\n",
       "  </thead>\n",
       "  <tbody>\n",
       "    <tr>\n",
       "      <th>0</th>\n",
       "      <td>1</td>\n",
       "      <td>For Those About To Rock We Salute You</td>\n",
       "      <td>1</td>\n",
       "    </tr>\n",
       "    <tr>\n",
       "      <th>1</th>\n",
       "      <td>2</td>\n",
       "      <td>Balls to the Wall</td>\n",
       "      <td>2</td>\n",
       "    </tr>\n",
       "    <tr>\n",
       "      <th>2</th>\n",
       "      <td>3</td>\n",
       "      <td>Restless and Wild</td>\n",
       "      <td>2</td>\n",
       "    </tr>\n",
       "    <tr>\n",
       "      <th>3</th>\n",
       "      <td>4</td>\n",
       "      <td>Let There Be Rock</td>\n",
       "      <td>1</td>\n",
       "    </tr>\n",
       "    <tr>\n",
       "      <th>4</th>\n",
       "      <td>5</td>\n",
       "      <td>Big Ones</td>\n",
       "      <td>3</td>\n",
       "    </tr>\n",
       "  </tbody>\n",
       "</table>\n",
       "</div>"
      ],
      "text/plain": [
       "   AlbumId                                  Title  ArtistId\n",
       "0        1  For Those About To Rock We Salute You         1\n",
       "1        2                      Balls to the Wall         2\n",
       "2        3                      Restless and Wild         2\n",
       "3        4                      Let There Be Rock         1\n",
       "4        5                               Big Ones         3"
      ]
     },
     "execution_count": 5,
     "metadata": {},
     "output_type": "execute_result"
    }
   ],
   "source": [
    "df.head()"
   ]
  },
  {
   "cell_type": "markdown",
   "id": "e73c449e-4260-4465-9e06-cda01409dd43",
   "metadata": {},
   "source": [
    "### Type2: magic CMD"
   ]
  },
  {
   "cell_type": "code",
   "execution_count": 6,
   "id": "6722983a-e9e3-4f4b-821a-791c0b88d74e",
   "metadata": {},
   "outputs": [],
   "source": [
    "# init\n",
    "%load_ext sql\n",
    "%config SqlMagic.displaycon=False \n",
    "%config SqlMagic.autopandas=True\n",
    "\n",
    "host_ = '172.25.0.2'\n",
    "%sql mysql+pymysql://{_MYSQL_USER}:{_MYSQL_PASSWORD}@{host_}/{_DATABASE}"
   ]
  },
  {
   "cell_type": "code",
   "execution_count": 7,
   "id": "9edd689f-38eb-438f-8eba-60ea2c1ee1e2",
   "metadata": {},
   "outputs": [
    {
     "name": "stdout",
     "output_type": "stream",
     "text": [
      "5 rows affected.\n",
      "Returning data to local variable result_set\n"
     ]
    }
   ],
   "source": [
    "%%sql result_set << \n",
    "SELECT * FROM Album ORDER BY AlbumId DESC LIMIT 5"
   ]
  },
  {
   "cell_type": "code",
   "execution_count": 8,
   "id": "88f7ae6b-73eb-454f-8d59-7bc7e4f0c820",
   "metadata": {},
   "outputs": [
    {
     "data": {
      "text/html": [
       "<div>\n",
       "<style scoped>\n",
       "    .dataframe tbody tr th:only-of-type {\n",
       "        vertical-align: middle;\n",
       "    }\n",
       "\n",
       "    .dataframe tbody tr th {\n",
       "        vertical-align: top;\n",
       "    }\n",
       "\n",
       "    .dataframe thead th {\n",
       "        text-align: right;\n",
       "    }\n",
       "</style>\n",
       "<table border=\"1\" class=\"dataframe\">\n",
       "  <thead>\n",
       "    <tr style=\"text-align: right;\">\n",
       "      <th></th>\n",
       "      <th>AlbumId</th>\n",
       "      <th>Title</th>\n",
       "      <th>ArtistId</th>\n",
       "    </tr>\n",
       "  </thead>\n",
       "  <tbody>\n",
       "    <tr>\n",
       "      <th>0</th>\n",
       "      <td>347</td>\n",
       "      <td>Koyaanisqatsi (Soundtrack from the Motion Pict...</td>\n",
       "      <td>275</td>\n",
       "    </tr>\n",
       "    <tr>\n",
       "      <th>1</th>\n",
       "      <td>346</td>\n",
       "      <td>Mozart: Chamber Music</td>\n",
       "      <td>274</td>\n",
       "    </tr>\n",
       "    <tr>\n",
       "      <th>2</th>\n",
       "      <td>345</td>\n",
       "      <td>Monteverdi: L'Orfeo</td>\n",
       "      <td>273</td>\n",
       "    </tr>\n",
       "    <tr>\n",
       "      <th>3</th>\n",
       "      <td>344</td>\n",
       "      <td>Schubert: The Late String Quartets &amp; String Qu...</td>\n",
       "      <td>272</td>\n",
       "    </tr>\n",
       "    <tr>\n",
       "      <th>4</th>\n",
       "      <td>343</td>\n",
       "      <td>Respighi:Pines of Rome</td>\n",
       "      <td>226</td>\n",
       "    </tr>\n",
       "  </tbody>\n",
       "</table>\n",
       "</div>"
      ],
      "text/plain": [
       "   AlbumId                                              Title  ArtistId\n",
       "0      347  Koyaanisqatsi (Soundtrack from the Motion Pict...       275\n",
       "1      346                              Mozart: Chamber Music       274\n",
       "2      345                                Monteverdi: L'Orfeo       273\n",
       "3      344  Schubert: The Late String Quartets & String Qu...       272\n",
       "4      343                             Respighi:Pines of Rome       226"
      ]
     },
     "execution_count": 8,
     "metadata": {},
     "output_type": "execute_result"
    }
   ],
   "source": [
    "result_set"
   ]
  },
  {
   "cell_type": "markdown",
   "id": "b383d7de-f1df-4a97-a30e-9e238da25d79",
   "metadata": {},
   "source": [
    "---"
   ]
  },
  {
   "cell_type": "markdown",
   "id": "37fee234-67d1-4b16-9b1f-34a1bd16fb02",
   "metadata": {},
   "source": [
    "## 🗒 NOTE"
   ]
  },
  {
   "cell_type": "markdown",
   "id": "68d2dc5f-d6d3-4409-8d4a-562429ddc986",
   "metadata": {
    "tags": []
   },
   "source": [
    "### コンテナDB の IP アドレスを検索する\n",
    "※ コンテナ 再度立ち上げると IP 割り当てかわっている\n",
    "```bash\n",
    "# ex:\n",
    "$ docker inspect {CONTAINER ID} | grep IPAddress\n",
    "            \"SecondaryIPAddresses\": null,\n",
    "            \"IPAddress\": \"\",\n",
    "                    \"IPAddress\": \"172.23.0.2\",\n",
    "```                    "
   ]
  },
  {
   "cell_type": "code",
   "execution_count": null,
   "id": "da54f388-2723-47f6-9095-88dea18895de",
   "metadata": {},
   "outputs": [],
   "source": []
  }
 ],
 "metadata": {
  "kernelspec": {
   "display_name": "Python 3 (ipykernel)",
   "language": "python",
   "name": "python3"
  },
  "language_info": {
   "codemirror_mode": {
    "name": "ipython",
    "version": 3
   },
   "file_extension": ".py",
   "mimetype": "text/x-python",
   "name": "python",
   "nbconvert_exporter": "python",
   "pygments_lexer": "ipython3",
   "version": "3.9.12"
  }
 },
 "nbformat": 4,
 "nbformat_minor": 5
}
